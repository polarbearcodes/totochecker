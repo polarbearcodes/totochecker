{
 "cells": [
  {
   "cell_type": "code",
   "execution_count": null,
   "id": "failing-fleece",
   "metadata": {},
   "outputs": [],
   "source": [
    "#Toto counter checker only for system 6.\n",
    "n = int(input(\"Enter number of elements : \"))   \n",
    "# Below line read inputs from user using map() function  \n",
    "lst = list(map(int,input(\"Enter the numbers separated by space\").strip().split()))[:n] "
   ]
  },
  {
   "cell_type": "code",
   "execution_count": null,
   "id": "natural-difficulty",
   "metadata": {},
   "outputs": [],
   "source": [
    "def chunks(l, n):\n",
    "    return [l[i:i+n] for i in range(0, len(l), n)]\n",
    "chunks(lst,6)\n",
    "lst = chunks(lst,6) #Split the list of numbers from input into list of lists."
   ]
  },
  {
   "cell_type": "code",
   "execution_count": null,
   "id": "formal-colleague",
   "metadata": {},
   "outputs": [],
   "source": [
    "toto_lst = [3,6,8,11,36,48,1] #toto list of numbers to be compared to your ticket number\n",
    "for lsts in lst: #This function is to iterate through your list of lists for any toto prizes\n",
    "    x = 0\n",
    "    a = 0\n",
    "    for number in lsts:\n",
    "            if number == toto_lst[0]:\n",
    "                x +=1\n",
    "            elif toto_lst[1] == number:\n",
    "                x +=1\n",
    "            elif toto_lst[2] == number:\n",
    "                x +=1\n",
    "            elif toto_lst[3] == number:\n",
    "                x +=1\n",
    "            elif toto_lst[4] == number:\n",
    "                x +=1\n",
    "            elif toto_lst[5] == number:\n",
    "                x +=1\n",
    "            elif toto_lst[6] == number:\n",
    "                a += 1\n",
    "    if x == 3 and a == 1:\n",
    "        print(\"Won 25 only\")\n",
    "    elif x == 3:\n",
    "        print('Won 10 only')\n",
    "    elif x == 4 and a == 1:\n",
    "        print('Won 3% of prize pool!')\n",
    "    elif x == 4: \n",
    "        print('Won 50 only')\n",
    "    elif x == 5 and a == 1:\n",
    "        print('Won 8% of prize pool!')\n",
    "    elif x == 5:\n",
    "        print('Won 5.5% of prize pool!')\n",
    "    elif x == 6:\n",
    "        print('Won 38% of prize pool!')\n",
    "    else: print(\"Nothing\")"
   ]
  }
 ],
 "metadata": {
  "kernelspec": {
   "display_name": "Python 3",
   "language": "python",
   "name": "python3"
  },
  "language_info": {
   "codemirror_mode": {
    "name": "ipython",
    "version": 3
   },
   "file_extension": ".py",
   "mimetype": "text/x-python",
   "name": "python",
   "nbconvert_exporter": "python",
   "pygments_lexer": "ipython3",
   "version": "3.8.5"
  }
 },
 "nbformat": 4,
 "nbformat_minor": 5
}
